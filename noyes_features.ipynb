{
 "cells": [
  {
   "cell_type": "code",
   "execution_count": 32,
   "metadata": {},
   "outputs": [],
   "source": [
    "import pickle\n",
    "import pandas as pd\n",
    "from datetime import datetime\n",
    "from collections import deque"
   ]
  },
  {
   "cell_type": "code",
   "execution_count": 7,
   "metadata": {},
   "outputs": [
    {
     "name": "stdout",
     "output_type": "stream",
     "text": [
      "Loaded noyes data from pickle file.\n"
     ]
    }
   ],
   "source": [
    "# Load noyes data from pickle file\n",
    "noyes_pickle_file = 'sample_data/cta_train_noyes.pkl'\n",
    "with open(noyes_pickle_file, 'rb') as f:\n",
    "    noyes_data = pickle.load(f)\n",
    "print(\"Loaded noyes data from pickle file.\")"
   ]
  },
  {
   "cell_type": "code",
   "execution_count": 55,
   "metadata": {},
   "outputs": [],
   "source": [
    "seen_live = set()   # (pred_arr, direction) to avoid rematching same live ETA\n",
    "sched_queue = {\n",
    "    \"Howard\": deque(),\n",
    "    \"Linden\": deque()\n",
    "}\n",
    "matches = []"
   ]
  },
  {
   "cell_type": "code",
   "execution_count": 56,
   "metadata": {},
   "outputs": [],
   "source": [
    "for etas, snap_ts in noyes_data:\n",
    "    for eta in etas:\n",
    "        direction = \"Howard\" if \"Howard\" in eta[\"stop_description\"] else (\n",
    "                    \"Linden\" if \"Linden\" in eta[\"stop_description\"] else None)\n",
    "        if direction is None:\n",
    "            print(f\"Skipping ETA with unknown direction: {eta['stop_description']}\")\n",
    "            continue\n",
    "\n",
    "        arrival_time = eta[\"arrival_time\"]\n",
    "        if not arrival_time:\n",
    "            print(f\"Skipping ETA with no arrival time: {eta}\")\n",
    "            continue\n",
    "\n",
    "        # (A) scheduled rows go into stack\n",
    "        if eta[\"is_scheduled\"]:\n",
    "            sched_queue[direction].append({\n",
    "                \"scheduled_arr\": arrival_time,\n",
    "                \"first_seen\": snap_ts,\n",
    "                \"direction\": direction,\n",
    "                \"run_number\": eta[\"run_number\"],\n",
    "            })\n",
    "\n",
    "        # (B) live ETAs try to pair with stack top (if not seen before)\n",
    "        elif not eta[\"is_scheduled\"]:\n",
    "            key = (arrival_time, direction)\n",
    "            if key in seen_live:\n",
    "                continue\n",
    "            seen_live.add(key)\n",
    "\n",
    "            if sched_queue[direction]:\n",
    "                # Match live ETA with the top of the scheduled stack\n",
    "                sched = sched_queue[direction].popleft()\n",
    "                matches.append({\n",
    "                    \"direction\": direction,\n",
    "                    \"scheduled_arr\": sched[\"scheduled_arr\"],\n",
    "                    \"actual_arr\": arrival_time,\n",
    "                    \"first_seen\": sched[\"first_seen\"],\n",
    "                })"
   ]
  },
  {
   "cell_type": "code",
   "execution_count": 57,
   "metadata": {},
   "outputs": [],
   "source": [
    "df_match = pd.DataFrame(matches)"
   ]
  },
  {
   "cell_type": "code",
   "execution_count": 58,
   "metadata": {},
   "outputs": [],
   "source": [
    "df_match[\"error_min\"] = (df_match[\"actual_arr\"] - df_match[\"scheduled_arr\"]).dt.total_seconds() / 60.0"
   ]
  },
  {
   "cell_type": "code",
   "execution_count": 59,
   "metadata": {},
   "outputs": [
    {
     "name": "stdout",
     "output_type": "stream",
     "text": [
      "  direction       scheduled_arr          actual_arr   error_min\n",
      "0    Linden 2025-04-01 00:24:04 2025-04-01 06:43:55  379.850000\n",
      "1    Linden 2025-04-01 00:39:04 2025-04-01 07:03:57  384.883333\n",
      "2    Linden 2025-04-01 00:23:44 2025-04-01 07:17:14  413.500000\n",
      "3    Linden 2025-04-01 00:38:44 2025-04-01 07:29:49  411.083333\n",
      "4    Linden 2025-04-01 00:28:24 2025-04-01 06:39:28  371.066667\n"
     ]
    }
   ],
   "source": [
    "print(df_match[[\"direction\", \"scheduled_arr\", \"actual_arr\", \"error_min\"]].head())"
   ]
  },
  {
   "cell_type": "code",
   "execution_count": 49,
   "metadata": {},
   "outputs": [
    {
     "name": "stdout",
     "output_type": "stream",
     "text": [
      "\n",
      "Mean absolute error: 2534.43 min\n"
     ]
    }
   ],
   "source": [
    "print(f\"\\nMean absolute error: {df_match['error_min'].abs().mean():.2f} min\")"
   ]
  },
  {
   "cell_type": "code",
   "execution_count": 50,
   "metadata": {},
   "outputs": [],
   "source": [
    "df_match.to_csv(\"sample_data/cta_train_noyes_matches.csv\", index=False)"
   ]
  },
  {
   "cell_type": "code",
   "execution_count": null,
   "metadata": {},
   "outputs": [],
   "source": []
  }
 ],
 "metadata": {
  "kernelspec": {
   "display_name": "Python 3",
   "language": "python",
   "name": "python3"
  },
  "language_info": {
   "codemirror_mode": {
    "name": "ipython",
    "version": 3
   },
   "file_extension": ".py",
   "mimetype": "text/x-python",
   "name": "python",
   "nbconvert_exporter": "python",
   "pygments_lexer": "ipython3",
   "version": "3.12.3"
  }
 },
 "nbformat": 4,
 "nbformat_minor": 2
}
