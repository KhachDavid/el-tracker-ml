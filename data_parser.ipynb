{
 "cells": [
  {
   "cell_type": "code",
   "execution_count": 1,
   "metadata": {},
   "outputs": [],
   "source": [
    "import os\n",
    "from data_parser import CTATrainDataParser"
   ]
  },
  {
   "cell_type": "code",
   "execution_count": 2,
   "metadata": {},
   "outputs": [
    {
     "name": "stdout",
     "output_type": "stream",
     "text": [
      "Parsing file: output_2025-04-12.csv\n",
      "Parsing file: output_2025-04-03.csv\n",
      "Parsing file: output_2025-04-09.csv\n",
      "Parsing file: output_2025-04-06.csv\n",
      "Parsing file: output_2025-04-05.csv\n",
      "Parsing file: output_2025-04-02.csv\n",
      "Parsing file: output_2025-04-08.csv\n",
      "Parsing file: output_2025-04-14.csv\n",
      "Parsing file: output_2025-04-13.csv\n",
      "Parsing file: output_2025-04-01.csv\n",
      "Parsing file: output_2025-04-11.csv\n",
      "Parsing file: output_2025-04-07.csv\n",
      "Parsing file: output_2025-04-04.csv\n",
      "Parsing file: output_2025-04-10.csv\n"
     ]
    }
   ],
   "source": [
    "data_parser = CTATrainDataParser()\n",
    "# Read all files inside sample_data directory\n",
    "files = os.listdir('sample_data')\n",
    "days = {}\n",
    "for file in files:\n",
    "    print(\"Parsing file:\", file)\n",
    "    if file.endswith('.csv'):\n",
    "        file_path = os.path.join('sample_data', file)\n",
    "        this_day = data_parser.parse_file(file_path)\n",
    "        # Store the data for each day\n",
    "        days[file] = this_day\n"
   ]
  },
  {
   "cell_type": "code",
   "execution_count": 3,
   "metadata": {},
   "outputs": [],
   "source": [
    "stats = data_parser.get_station_stats()"
   ]
  },
  {
   "cell_type": "code",
   "execution_count": 4,
   "metadata": {},
   "outputs": [],
   "source": [
    "station_ids = stats.keys()"
   ]
  },
  {
   "cell_type": "code",
   "execution_count": 5,
   "metadata": {},
   "outputs": [
    {
     "data": {
      "text/plain": [
       "129"
      ]
     },
     "execution_count": 5,
     "metadata": {},
     "output_type": "execute_result"
    }
   ],
   "source": [
    "len(station_ids)"
   ]
  },
  {
   "cell_type": "code",
   "execution_count": 6,
   "metadata": {},
   "outputs": [
    {
     "name": "stdout",
     "output_type": "stream",
     "text": [
      "output_2025-04-12.csv\n",
      "24255\n",
      "\n",
      "output_2025-04-03.csv\n",
      "25153\n",
      "\n",
      "output_2025-04-09.csv\n",
      "25210\n",
      "\n",
      "output_2025-04-06.csv\n",
      "23201\n",
      "\n",
      "output_2025-04-05.csv\n",
      "22900\n",
      "\n",
      "output_2025-04-02.csv\n",
      "25500\n",
      "\n",
      "output_2025-04-08.csv\n",
      "24545\n",
      "\n",
      "output_2025-04-14.csv\n",
      "25059\n",
      "\n",
      "output_2025-04-13.csv\n",
      "23439\n",
      "\n",
      "output_2025-04-01.csv\n",
      "25016\n",
      "\n",
      "output_2025-04-11.csv\n",
      "23948\n",
      "\n",
      "output_2025-04-07.csv\n",
      "24846\n",
      "\n",
      "output_2025-04-04.csv\n",
      "24187\n",
      "\n",
      "output_2025-04-10.csv\n",
      "24847\n",
      "\n"
     ]
    }
   ],
   "source": [
    "for key in days.keys():\n",
    "    print(key)\n",
    "    print(len(days[key]))\n",
    "    print(\"\")"
   ]
  },
  {
   "cell_type": "code",
   "execution_count": 10,
   "metadata": {},
   "outputs": [
    {
     "data": {
      "text/plain": [
       "{'station_id': '40400',\n",
       " 'station_name': 'Noyes',\n",
       " 'stop_id': '30079',\n",
       " 'stop_description': 'Service toward Howard, Loop',\n",
       " 'run_number': '515',\n",
       " 'route': 'P',\n",
       " 'destination_id': '0',\n",
       " 'destination_name': 'Howard (or Loop)',\n",
       " 'direction': '5',\n",
       " 'predicted_time': datetime.datetime(2025, 4, 10, 16, 40, 23),\n",
       " 'arrival_time': datetime.datetime(2025, 4, 10, 16, 41, 23),\n",
       " 'is_approaching': True,\n",
       " 'is_scheduled': True,\n",
       " 'is_delayed': True,\n",
       " 'latitude': 'None',\n",
       " 'longitude': 'None',\n",
       " 'heading': 'None',\n",
       " 'minutes_until_arrival': 0.9669489666666667}"
      ]
     },
     "execution_count": 10,
     "metadata": {},
     "output_type": "execute_result"
    }
   ],
   "source": [
    "# 40400 Noyes\n",
    "noyes = data_parser.get_entries_by_station(\"40400\")\n",
    "noyes[0][1][0]"
   ]
  },
  {
   "cell_type": "code",
   "execution_count": 11,
   "metadata": {},
   "outputs": [
    {
     "data": {
      "text/plain": [
       "{'station_id': '40400',\n",
       " 'station_name': 'Noyes',\n",
       " 'stop_id': '30079',\n",
       " 'stop_description': 'Service toward Howard, Loop',\n",
       " 'run_number': '516',\n",
       " 'route': 'P',\n",
       " 'destination_id': '0',\n",
       " 'destination_name': 'Howard (or Loop)',\n",
       " 'direction': '5',\n",
       " 'predicted_time': datetime.datetime(2025, 4, 10, 16, 40, 23),\n",
       " 'arrival_time': datetime.datetime(2025, 4, 10, 16, 49, 23),\n",
       " 'is_approaching': False,\n",
       " 'is_scheduled': True,\n",
       " 'is_delayed': False,\n",
       " 'latitude': 'None',\n",
       " 'longitude': 'None',\n",
       " 'heading': 'None',\n",
       " 'minutes_until_arrival': 8.966948966666667}"
      ]
     },
     "execution_count": 11,
     "metadata": {},
     "output_type": "execute_result"
    }
   ],
   "source": [
    "noyes[0][1][1]\n"
   ]
  }
 ],
 "metadata": {
  "kernelspec": {
   "display_name": "Python 3",
   "language": "python",
   "name": "python3"
  },
  "language_info": {
   "codemirror_mode": {
    "name": "ipython",
    "version": 3
   },
   "file_extension": ".py",
   "mimetype": "text/x-python",
   "name": "python",
   "nbconvert_exporter": "python",
   "pygments_lexer": "ipython3",
   "version": "3.12.3"
  }
 },
 "nbformat": 4,
 "nbformat_minor": 2
}
