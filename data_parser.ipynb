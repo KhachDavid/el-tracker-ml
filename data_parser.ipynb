{
 "cells": [
  {
   "cell_type": "code",
   "execution_count": 83,
   "metadata": {},
   "outputs": [],
   "source": [
    "import os\n",
    "import re\n",
    "import pandas as pd\n",
    "import pickle\n",
    "from data_parser import CTATrainDataParser\n",
    "from datetime import timedelta\n"
   ]
  },
  {
   "cell_type": "code",
   "execution_count": 108,
   "metadata": {},
   "outputs": [
    {
     "name": "stdout",
     "output_type": "stream",
     "text": [
      "Parsing file: output_2025-04-12.csv\n",
      "Parsing file: output_2025-04-09.csv\n",
      "Parsing file: output_2025-04-06.csv\n",
      "Parsing file: output_2025-04-05.csv\n",
      "Parsing file: output_2025-04-02.csv\n",
      "Parsing file: output_2025-04-08.csv\n",
      "Parsing file: output_2025-04-13.csv\n",
      "Parsing file: cta_train_data.pkl\n",
      "Parsing file: cta_train_noyes.pkl\n",
      "Parsing file: output_2025-04-01.csv\n",
      "Parsing file: output_2025-04-11.csv\n",
      "Parsing file: output_2024-06-03.csv\n",
      "Parsing file: output_2025-04-07.csv\n",
      "Parsing file: output_2025-04-04.csv\n",
      "Parsing file: output_2025-04-10.csv\n"
     ]
    }
   ],
   "source": [
    "data_parser = CTATrainDataParser()\n",
    "\n",
    "# check if pickle file already exists\n",
    "# Read all files inside sample_data directory\n",
    "files = os.listdir('sample_data')\n",
    "days = {}\n",
    "for file in files:\n",
    "    print(\"Parsing file:\", file)\n",
    "    if file.endswith('.csv'):\n",
    "        file_path = os.path.join('sample_data', file)\n",
    "        this_day = data_parser.parse_file(file_path)\n",
    "        # Store the data for each day\n",
    "        days[file] = this_day\n",
    "\n"
   ]
  },
  {
   "cell_type": "code",
   "execution_count": 96,
   "metadata": {},
   "outputs": [],
   "source": [
    "rows = []\n",
    "for day, data in days.items():\n",
    "    for rec in data:\n",
    "        snap_ts = rec[\"timestamp\"].replace(tzinfo=None)\n",
    "        for eta in rec[\"eta_entries\"]:\n",
    "            rows.append({\n",
    "                \"station_id\":      eta[\"station_id\"],\n",
    "                \"station_name\":    eta[\"station_name\"],\n",
    "                \"stop_description\":eta[\"stop_description\"],     # stpDe\n",
    "                \"destination_name\":eta[\"destination_name\"],     # destNm\n",
    "                \"is_scheduled\":    eta[\"is_scheduled\"],\n",
    "                \"pred_arr\":        eta[\"arrival_time\"],\n",
    "                \"run_number\":     eta[\"run_number\"],          # run\n",
    "                \"snap_ts\":         snap_ts\n",
    "            })\n",
    "df = pd.DataFrame(rows).sort_values([\"station_id\", \"pred_arr\", \"snap_ts\"])"
   ]
  },
  {
   "cell_type": "code",
   "execution_count": 105,
   "metadata": {},
   "outputs": [
    {
     "name": "stdout",
     "output_type": "stream",
     "text": [
      "Number of noyes rows: 1799\n",
      "Data saved to sample_data/cta_train_data.pkl\n",
      "Noyes data saved to sample_data/cta_train_noyes.pkl\n"
     ]
    }
   ],
   "source": [
    "noyes_rows = []\n",
    "for day, data in days.items():\n",
    "    for rec in data:\n",
    "        snap_ts = rec[\"timestamp\"].replace(tzinfo=None)\n",
    "\n",
    "        if rec[\"station_id\"] != \"40400\":\n",
    "            continue\n",
    "\n",
    "        noyes_rows.append((rec[\"eta_entries\"], snap_ts))\n",
    "\n",
    "# sort the noyes_rows by snap_ts\n",
    "noyes_rows.sort(key=lambda x: x[1])\n",
    "print(\"Number of noyes rows:\", len(noyes_rows))\n",
    "\n",
    "# Save the DataFrame to a pickle file\n",
    "pickle_file = 'sample_data/cta_train_data.pkl'\n",
    "with open(pickle_file, 'wb') as f:\n",
    "    pickle.dump(df, f)\n",
    "print(f\"Data saved to {pickle_file}\")\n",
    "# Save the noyes_rows to a pickle file\n",
    "noyes_pickle_file = 'sample_data/cta_train_noyes.pkl'\n",
    "with open(noyes_pickle_file, 'wb') as f:\n",
    "    pickle.dump(noyes_rows, f)\n",
    "print(f\"Noyes data saved to {noyes_pickle_file}\")"
   ]
  },
  {
   "cell_type": "code",
   "execution_count": null,
   "metadata": {},
   "outputs": [],
   "source": []
  }
 ],
 "metadata": {
  "kernelspec": {
   "display_name": "Python 3",
   "language": "python",
   "name": "python3"
  },
  "language_info": {
   "codemirror_mode": {
    "name": "ipython",
    "version": 3
   },
   "file_extension": ".py",
   "mimetype": "text/x-python",
   "name": "python",
   "nbconvert_exporter": "python",
   "pygments_lexer": "ipython3",
   "version": "3.12.3"
  }
 },
 "nbformat": 4,
 "nbformat_minor": 2
}
